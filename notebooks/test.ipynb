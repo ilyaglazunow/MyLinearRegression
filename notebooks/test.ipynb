{
 "cells": [
  {
   "cell_type": "code",
   "execution_count": 197,
   "metadata": {},
   "outputs": [],
   "source": [
    "import numpy as np\n",
    "import pandas as pd\n",
    "from tqdm import tqdm\n",
    "\n",
    "from sklearn.linear_model import LinearRegression, Lasso\n",
    "from sklearn.model_selection import train_test_split\n",
    "from sklearn.metrics import mean_squared_error\n",
    "from sklearn.datasets import load_diabetes"
   ]
  },
  {
   "cell_type": "code",
   "execution_count": 154,
   "metadata": {},
   "outputs": [],
   "source": [
    "import sys\n",
    "import os\n",
    "\n",
    "# Add Folder Z (parent directory) to sys.path\n",
    "sys.path.append(os.path.abspath(os.path.join(os.getcwd(), '..')))"
   ]
  },
  {
   "cell_type": "code",
   "execution_count": 4,
   "metadata": {},
   "outputs": [],
   "source": [
    "data = load_diabetes()"
   ]
  },
  {
   "cell_type": "code",
   "execution_count": 13,
   "metadata": {},
   "outputs": [],
   "source": [
    "X = data.data\n",
    "y = data.target"
   ]
  },
  {
   "cell_type": "code",
   "execution_count": 198,
   "metadata": {},
   "outputs": [
    {
     "name": "stdout",
     "output_type": "stream",
     "text": [
      "[  0.           0.         366.13007504   0.           0.\n",
      "   0.          -0.           0.         271.32390944   0.        ]\n",
      "--------------------\n",
      "MSE: 3981.380656013544\n"
     ]
    }
   ],
   "source": [
    "model = Lasso(alpha=1)\n",
    "\n",
    "X_train, X_test, y_train, y_test = train_test_split(X, y, test_size=0.2, random_state=123)\n",
    "model.fit(X_train, y_train)\n",
    "y_pred = model.predict(X_test)\n",
    "\n",
    "print(model.coef_)\n",
    "print('-' * 20)\n",
    "print(f'MSE: {mean_squared_error(y_test, y_pred)}')"
   ]
  },
  {
   "cell_type": "code",
   "execution_count": 210,
   "metadata": {},
   "outputs": [],
   "source": [
    "if 'utils.MyRegression' in sys.modules:\n",
    "    del sys.modules['utils.MyRegression']\n",
    "\n",
    "# Now re-import the class\n",
    "from utils.MyRegression import MyLinearRegression"
   ]
  },
  {
   "cell_type": "code",
   "execution_count": 211,
   "metadata": {},
   "outputs": [
    {
     "name": "stdout",
     "output_type": "stream",
     "text": [
      "Iteration: 0, MSE: 14551.661096487504\n",
      "Iteration: 5000, MSE: 2759.8154682635923\n",
      "Iteration: 10000, MSE: 2736.3690557227847\n",
      "Iteration: 15000, MSE: 2731.8806179297303\n",
      "Iteration: 20000, MSE: 2731.1080276373887\n",
      "Iteration: 25000, MSE: 2731.071898296098\n",
      "Iteration: 30000, MSE: 2731.0122356070565\n",
      "Iteration: 35000, MSE: 2731.039462992942\n",
      "Iteration: 40000, MSE: 2731.1408462885875\n",
      "Iteration: 45000, MSE: 2731.097531695786\n",
      "Iteration: 50000, MSE: 2731.0705490934706\n",
      "Iteration: 55000, MSE: 2731.146583532234\n",
      "Iteration: 60000, MSE: 2731.1637186633425\n",
      "Iteration: 65000, MSE: 2731.1906249198646\n",
      "Iteration: 70000, MSE: 2731.225991004029\n",
      "Iteration: 75000, MSE: 2731.0119247096973\n",
      "Iteration: 80000, MSE: 2730.9043842777564\n",
      "Iteration: 85000, MSE: 2731.0340990406294\n",
      "Iteration: 90000, MSE: 2731.1715679436834\n",
      "Iteration: 95000, MSE: 2731.2386901564537\n",
      "[ 1.51470746e+02 -3.82775038e-02 -3.56026212e-02  3.66106332e+02\n",
      "  9.26186739e-02 -2.98420885e-02 -7.62157970e-02 -8.89119868e-02\n",
      "  6.58837305e-02  2.71049458e+02  1.20682445e-01]\n",
      "--------------------\n",
      "MSE: 3979.3936139764774\n"
     ]
    }
   ],
   "source": [
    "my_model = MyLinearRegression(l1_ratio=1, verbose=5000)\n",
    "\n",
    "X_train, X_test, y_train, y_test = train_test_split(X, y, test_size=0.2, random_state=123)\n",
    "my_model.fit(X_train, y_train)\n",
    "y_pred = my_model.predict(X_test)\n",
    "\n",
    "print(my_model.coef_)\n",
    "print('-' * 20)\n",
    "print(f'MSE: {mean_squared_error(y_test, y_pred)}')"
   ]
  },
  {
   "cell_type": "code",
   "execution_count": 207,
   "metadata": {},
   "outputs": [],
   "source": [
    "my_model.best_iteration"
   ]
  },
  {
   "cell_type": "code",
   "execution_count": null,
   "metadata": {},
   "outputs": [],
   "source": []
  },
  {
   "cell_type": "code",
   "execution_count": null,
   "metadata": {},
   "outputs": [],
   "source": []
  }
 ],
 "metadata": {
  "kernelspec": {
   "display_name": "Python 3",
   "language": "python",
   "name": "python3"
  },
  "language_info": {
   "codemirror_mode": {
    "name": "ipython",
    "version": 3
   },
   "file_extension": ".py",
   "mimetype": "text/x-python",
   "name": "python",
   "nbconvert_exporter": "python",
   "pygments_lexer": "ipython3",
   "version": "3.10.12"
  }
 },
 "nbformat": 4,
 "nbformat_minor": 2
}
