{
 "cells": [
  {
   "cell_type": "code",
   "execution_count": 222,
   "metadata": {},
   "outputs": [],
   "source": [
    "import numpy as np\n",
    "import pandas as pd\n",
    "from tqdm import tqdm\n",
    "\n",
    "from sklearn.linear_model import LinearRegression, Lasso, Ridge\n",
    "from sklearn.model_selection import train_test_split\n",
    "from sklearn.metrics import mean_squared_error\n",
    "from sklearn.datasets import load_diabetes"
   ]
  },
  {
   "cell_type": "code",
   "execution_count": 154,
   "metadata": {},
   "outputs": [],
   "source": [
    "import sys\n",
    "import os\n",
    "\n",
    "# Add Folder Z (parent directory) to sys.path\n",
    "sys.path.append(os.path.abspath(os.path.join(os.getcwd(), '..')))"
   ]
  },
  {
   "cell_type": "code",
   "execution_count": 4,
   "metadata": {},
   "outputs": [],
   "source": [
    "data = load_diabetes()"
   ]
  },
  {
   "cell_type": "code",
   "execution_count": 13,
   "metadata": {},
   "outputs": [],
   "source": [
    "X = data.data\n",
    "y = data.target"
   ]
  },
  {
   "cell_type": "code",
   "execution_count": 258,
   "metadata": {},
   "outputs": [
    {
     "name": "stdout",
     "output_type": "stream",
     "text": [
      "152.15977674264442\n",
      "[  30.08027851  -56.94656112  272.40309751  171.47193794    2.37245896\n",
      "  -21.02240868 -147.68188837  123.94359636  220.75763022  122.75923171]\n",
      "--------------------\n",
      "MSE: 3553.204135737771\n"
     ]
    }
   ],
   "source": [
    "model = Ridge(alpha=1)\n",
    "\n",
    "X_train, X_test, y_train, y_test = train_test_split(X, y, test_size=0.2, random_state=123)\n",
    "model.fit(X_train, y_train)\n",
    "y_pred = model.predict(X_test)\n",
    "\n",
    "print(model.intercept_)\n",
    "print(model.coef_)\n",
    "print('-' * 20)\n",
    "print(f'MSE: {mean_squared_error(y_test, y_pred)}')"
   ]
  },
  {
   "cell_type": "code",
   "execution_count": null,
   "metadata": {},
   "outputs": [],
   "source": []
  },
  {
   "cell_type": "code",
   "execution_count": 269,
   "metadata": {},
   "outputs": [],
   "source": [
    "if 'utils.MyRegression' in sys.modules:\n",
    "    del sys.modules['utils.MyRegression']\n",
    "\n",
    "# Now re-import the class\n",
    "from utils.MyRegression import MyLinearRegression"
   ]
  },
  {
   "cell_type": "code",
   "execution_count": 280,
   "metadata": {},
   "outputs": [
    {
     "name": "stdout",
     "output_type": "stream",
     "text": [
      "Iteration: 0, MSE: 14535.162071068571\n",
      "Iteration: 10000, MSE: 2913.206895170198\n",
      "Iteration: 20000, MSE: 2913.206895170198\n",
      "Iteration: 30000, MSE: 2913.206895170198\n",
      "Iteration: 40000, MSE: 2913.206895170198\n",
      "Iteration: 50000, MSE: 2913.206895170198\n",
      "Iteration: 60000, MSE: 2913.206895170198\n",
      "Iteration: 70000, MSE: 2913.206895170198\n",
      "Iteration: 80000, MSE: 2913.206895170198\n",
      "Iteration: 90000, MSE: 2913.206895170198\n",
      "[ 1.52426811e+02  3.23918823e-01  1.15284511e-01  1.05642826e+00\n",
      "  7.58249838e-01  3.54078590e-01  3.11363299e-01 -7.61133936e-01\n",
      "  8.22483824e-01  9.90790347e-01  7.43452213e-01]\n",
      "--------------------\n",
      "MSE: 6282.781898169247\n"
     ]
    }
   ],
   "source": [
    "my_model = MyLinearRegression(learning_rate=0.01, l2_ratio=1, early_stopping_rounds=100000, verbose=10000, )\n",
    "\n",
    "X_train, X_test, y_train, y_test = train_test_split(X, y, test_size=0.2, random_state=123)\n",
    "my_model.fit(X_train, y_train)\n",
    "y_pred = my_model.predict(X_test)\n",
    "\n",
    "print(my_model.coef_)\n",
    "print('-' * 20)\n",
    "print(f'MSE: {mean_squared_error(y_test, y_pred)}')"
   ]
  },
  {
   "cell_type": "code",
   "execution_count": 263,
   "metadata": {},
   "outputs": [
    {
     "data": {
      "text/plain": [
       "170"
      ]
     },
     "execution_count": 263,
     "metadata": {},
     "output_type": "execute_result"
    }
   ],
   "source": [
    "my_model.best_iteration"
   ]
  },
  {
   "cell_type": "code",
   "execution_count": 239,
   "metadata": {},
   "outputs": [
    {
     "name": "stdout",
     "output_type": "stream",
     "text": [
      "['50.808853', '0.303603', '0.138292', '1.057717', '0.759856', '0.298220', '0.264714', '-0.803350', '0.837406', '0.980922', '0.809666']\n"
     ]
    }
   ],
   "source": [
    "print([f\"{coef:.6f}\" for coef in my_model.coef_])"
   ]
  },
  {
   "cell_type": "code",
   "execution_count": 274,
   "metadata": {},
   "outputs": [],
   "source": [
    "from sklearn.preprocessing import StandardScaler\n",
    "from sklearn.metrics import mean_squared_error\n",
    "from sklearn.linear_model import Ridge, SGDRegressor\n",
    "import matplotlib.pyplot as plt"
   ]
  },
  {
   "cell_type": "code",
   "execution_count": 289,
   "metadata": {},
   "outputs": [
    {
     "name": "stdout",
     "output_type": "stream",
     "text": [
      "Iteration: 0, MSE: 14537.805404441848\n",
      "Iteration: 100, MSE: 3164.746753055705\n",
      "Iteration: 200, MSE: 1782.0184136749126\n",
      "Iteration: 300, MSE: 1593.6802789717544\n",
      "Iteration: 400, MSE: 1566.92958635147\n",
      "Iteration: 500, MSE: 1562.7171683662325\n",
      "Iteration: 600, MSE: 1561.8356225421248\n",
      "Iteration: 700, MSE: 1561.4977393651684\n",
      "Iteration: 800, MSE: 1561.296162938811\n",
      "Iteration: 900, MSE: 1561.122179036918\n",
      "Iteration: 1000, MSE: 1560.9692927066087\n",
      "Iteration: 1100, MSE: 1560.8372976137578\n",
      "Iteration: 1200, MSE: 1560.7117702785258\n",
      "Iteration: 1300, MSE: 1560.603849307717\n",
      "Iteration: 1400, MSE: 1560.4964951314023\n",
      "Iteration: 1500, MSE: 1560.399681832482\n",
      "Iteration: 1600, MSE: 1560.3013128041007\n",
      "Iteration: 1700, MSE: 1560.2113847929584\n",
      "Iteration: 1800, MSE: 1560.1289042871751\n",
      "Iteration: 1900, MSE: 1560.0528140981353\n",
      "Iteration: 2000, MSE: 1559.9833313219428\n",
      "Iteration: 2100, MSE: 1559.907666794054\n",
      "Iteration: 2200, MSE: 1559.8391627340745\n",
      "Iteration: 2300, MSE: 1559.7715336606452\n",
      "Iteration: 2400, MSE: 1559.7137014405344\n",
      "Iteration: 2500, MSE: 1559.6486120537106\n",
      "Iteration: 2600, MSE: 1559.5864195014824\n",
      "Iteration: 2700, MSE: 1559.527975954886\n",
      "Iteration: 2800, MSE: 1559.4859578644734\n",
      "Iteration: 2900, MSE: 1559.478559165747\n",
      "Iteration: 3000, MSE: 1559.4667972260452\n",
      "Iteration: 3100, MSE: 1559.4608223724554\n",
      "Iteration: 3200, MSE: 1559.4617482543251\n",
      "Iteration: 3300, MSE: 1559.4495374832024\n",
      "Iteration: 3400, MSE: 1559.4552690551122\n",
      "Iteration: 3500, MSE: 1559.4466831740158\n",
      "Custom Model Coefficients: [ 1.52115058e+02  9.06778224e-03 -8.52684978e+00  2.41420480e+01\n",
      "  1.27175676e+01 -6.61480010e+00 -4.82356283e-05 -9.24538555e+00\n",
      "  3.13981082e+00  2.18628940e+01  4.64600043e+00]\n",
      "--------------------\n",
      "Custom Model MSE: 2739.2603675895684\n",
      "Scikit-learn Ridge MSE: 2726.582813184232\n",
      "Scikit-learn Lasso MSE: 2740.713278054869\n",
      "Scikit-learn Linear Regression MSE: 2724.258079598756\n"
     ]
    }
   ],
   "source": [
    "scaler = StandardScaler()\n",
    "X_scaled = scaler.fit_transform(X)\n",
    "\n",
    "# Разделение на обучающую и тестовую выборки\n",
    "X_train, X_test, y_train, y_test = train_test_split(X_scaled, y, test_size=0.2, random_state=123)\n",
    "\n",
    "# Обучение пользовательской модели\n",
    "my_model = MyLinearRegression(l1_ratio=1, learning_rate=0.01, verbose=100)\n",
    "my_model.fit(X_train, y_train)\n",
    "y_pred = my_model.predict(X_test)\n",
    "\n",
    "print(f'Custom Model Coefficients: {my_model.coef_}')\n",
    "print('-' * 20)\n",
    "print(f'Custom Model MSE: {mean_squared_error(y_test, y_pred)}')\n",
    "\n",
    "# Обучение Ridge-регрессии из scikit-learn\n",
    "ridge_model = Ridge(alpha=1, fit_intercept=True)\n",
    "ridge_model.fit(X_train, y_train)\n",
    "y_pred_ridge = ridge_model.predict(X_test)\n",
    "print(f'Scikit-learn Ridge MSE: {mean_squared_error(y_test, y_pred_ridge)}')\n",
    "\n",
    "ridge_model = Lasso(alpha=1, fit_intercept=True)\n",
    "ridge_model.fit(X_train, y_train)\n",
    "y_pred_ridge = ridge_model.predict(X_test)\n",
    "print(f'Scikit-learn Lasso MSE: {mean_squared_error(y_test, y_pred_ridge)}')\n",
    "\n",
    "ridge_model = LinearRegression()\n",
    "ridge_model.fit(X_train, y_train)\n",
    "y_pred_ridge = ridge_model.predict(X_test)\n",
    "print(f'Scikit-learn Linear Regression MSE: {mean_squared_error(y_test, y_pred_ridge)}')"
   ]
  },
  {
   "cell_type": "code",
   "execution_count": 290,
   "metadata": {},
   "outputs": [
    {
     "data": {
      "text/plain": [
       "3507"
      ]
     },
     "execution_count": 290,
     "metadata": {},
     "output_type": "execute_result"
    }
   ],
   "source": [
    "my_model.best_iteration"
   ]
  },
  {
   "cell_type": "code",
   "execution_count": null,
   "metadata": {},
   "outputs": [],
   "source": []
  }
 ],
 "metadata": {
  "kernelspec": {
   "display_name": "Python 3",
   "language": "python",
   "name": "python3"
  },
  "language_info": {
   "codemirror_mode": {
    "name": "ipython",
    "version": 3
   },
   "file_extension": ".py",
   "mimetype": "text/x-python",
   "name": "python",
   "nbconvert_exporter": "python",
   "pygments_lexer": "ipython3",
   "version": "3.10.12"
  }
 },
 "nbformat": 4,
 "nbformat_minor": 2
}
